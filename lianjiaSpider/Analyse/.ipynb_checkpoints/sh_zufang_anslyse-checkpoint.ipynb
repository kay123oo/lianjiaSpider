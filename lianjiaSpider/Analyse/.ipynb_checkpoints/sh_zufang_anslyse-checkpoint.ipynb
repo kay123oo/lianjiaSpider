{
 "cells": [
  {
   "cell_type": "code",
   "execution_count": 22,
   "metadata": {},
   "outputs": [],
   "source": [
    "import pandas as pd\n",
    "import numpy as np\n",
    "from pymongo import MongoClient\n",
    "import matplotlib.pyplot as plt\n"
   ]
  },
  {
   "cell_type": "code",
   "execution_count": 23,
   "metadata": {},
   "outputs": [],
   "source": [
    "conn = MongoClient(host='127.0.0.1', port=27017)  # 实例化MongoClient\n",
    "db = conn.get_database('lianjia')  # 连接到Lianjia数据库\n",
    "\n",
    "zufang = db.get_collection('zufang_sh') # 连接到集合zufang\n",
    "mon_data = zufang.find()  # 查询这个集合下的所有记录\n"
   ]
  },
  {
   "cell_type": "code",
   "execution_count": 24,
   "metadata": {},
   "outputs": [],
   "source": [
    "lianjia_df=pd.DataFrame(list(mon_data))\n"
   ]
  },
  {
   "cell_type": "code",
   "execution_count": 25,
   "metadata": {},
   "outputs": [
    {
     "data": {
      "text/html": [
       "<div>\n",
       "<style scoped>\n",
       "    .dataframe tbody tr th:only-of-type {\n",
       "        vertical-align: middle;\n",
       "    }\n",
       "\n",
       "    .dataframe tbody tr th {\n",
       "        vertical-align: top;\n",
       "    }\n",
       "\n",
       "    .dataframe thead th {\n",
       "        text-align: right;\n",
       "    }\n",
       "</style>\n",
       "<table border=\"1\" class=\"dataframe\">\n",
       "  <thead>\n",
       "    <tr style=\"text-align: right;\">\n",
       "      <th></th>\n",
       "      <th>_id</th>\n",
       "      <th>dataDistributionType</th>\n",
       "      <th>district</th>\n",
       "      <th>microdistrict</th>\n",
       "      <th>community</th>\n",
       "      <th>area</th>\n",
       "      <th>orientation</th>\n",
       "      <th>houseType</th>\n",
       "      <th>title</th>\n",
       "      <th>price</th>\n",
       "      <th>city</th>\n",
       "      <th>longitude</th>\n",
       "      <th>latitude</th>\n",
       "      <th>floor</th>\n",
       "      <th>distance</th>\n",
       "      <th>hall_num</th>\n",
       "      <th>bedroom_num</th>\n",
       "      <th>bathroom_num</th>\n",
       "      <th>tags</th>\n",
       "    </tr>\n",
       "  </thead>\n",
       "  <tbody>\n",
       "    <tr>\n",
       "      <th>0</th>\n",
       "      <td>5e61273337b6555f60f75562</td>\n",
       "      <td>0</td>\n",
       "      <td>普陀</td>\n",
       "      <td>甘泉宜川</td>\n",
       "      <td>新宜小区</td>\n",
       "      <td>35</td>\n",
       "      <td>南</td>\n",
       "      <td>1室0厅1卫</td>\n",
       "      <td>整租·新宜小区 1室0厅 南</td>\n",
       "      <td>3500</td>\n",
       "      <td>上海</td>\n",
       "      <td>121.44253</td>\n",
       "      <td>31.27199</td>\n",
       "      <td>6</td>\n",
       "      <td>NaN</td>\n",
       "      <td>1</td>\n",
       "      <td>0</td>\n",
       "      <td>1</td>\n",
       "      <td>NaN</td>\n",
       "    </tr>\n",
       "    <tr>\n",
       "      <th>1</th>\n",
       "      <td>5e61273737b6555f60f75563</td>\n",
       "      <td>0</td>\n",
       "      <td>普陀</td>\n",
       "      <td>甘泉宜川</td>\n",
       "      <td>新宜小区</td>\n",
       "      <td>34</td>\n",
       "      <td>南</td>\n",
       "      <td>1室1厅1卫</td>\n",
       "      <td>整租·新宜小区 1室1厅 南</td>\n",
       "      <td>3700</td>\n",
       "      <td>上海</td>\n",
       "      <td>121.44253</td>\n",
       "      <td>31.27199</td>\n",
       "      <td>6</td>\n",
       "      <td>NaN</td>\n",
       "      <td>1</td>\n",
       "      <td>1</td>\n",
       "      <td>1</td>\n",
       "      <td>NaN</td>\n",
       "    </tr>\n",
       "    <tr>\n",
       "      <th>2</th>\n",
       "      <td>5e61274637b6555f60f75564</td>\n",
       "      <td>0</td>\n",
       "      <td>普陀</td>\n",
       "      <td>真如</td>\n",
       "      <td>樱花苑</td>\n",
       "      <td>60</td>\n",
       "      <td>南</td>\n",
       "      <td>2室1厅1卫</td>\n",
       "      <td>整租·樱花苑 2室1厅 南</td>\n",
       "      <td>4300</td>\n",
       "      <td>上海</td>\n",
       "      <td>121.4002071</td>\n",
       "      <td>31.25485805</td>\n",
       "      <td>6</td>\n",
       "      <td>NaN</td>\n",
       "      <td>2</td>\n",
       "      <td>1</td>\n",
       "      <td>1</td>\n",
       "      <td>NaN</td>\n",
       "    </tr>\n",
       "  </tbody>\n",
       "</table>\n",
       "</div>"
      ],
      "text/plain": [
       "                        _id  dataDistributionType district microdistrict  \\\n",
       "0  5e61273337b6555f60f75562                     0       普陀          甘泉宜川   \n",
       "1  5e61273737b6555f60f75563                     0       普陀          甘泉宜川   \n",
       "2  5e61274637b6555f60f75564                     0       普陀            真如   \n",
       "\n",
       "  community  area orientation houseType           title  price city  \\\n",
       "0      新宜小区    35           南    1室0厅1卫  整租·新宜小区 1室0厅 南   3500   上海   \n",
       "1      新宜小区    34           南    1室1厅1卫  整租·新宜小区 1室1厅 南   3700   上海   \n",
       "2       樱花苑    60           南    2室1厅1卫   整租·樱花苑 2室1厅 南   4300   上海   \n",
       "\n",
       "     longitude     latitude  floor  distance  hall_num  bedroom_num  \\\n",
       "0    121.44253     31.27199      6       NaN         1            0   \n",
       "1    121.44253     31.27199      6       NaN         1            1   \n",
       "2  121.4002071  31.25485805      6       NaN         2            1   \n",
       "\n",
       "   bathroom_num tags  \n",
       "0             1  NaN  \n",
       "1             1  NaN  \n",
       "2             1  NaN  "
      ]
     },
     "execution_count": 25,
     "metadata": {},
     "output_type": "execute_result"
    }
   ],
   "source": [
    "lianjia_df.head(3)"
   ]
  },
  {
   "cell_type": "code",
   "execution_count": 26,
   "metadata": {},
   "outputs": [
    {
     "data": {
      "text/plain": [
       "闵行    2212\n",
       "松江    1691\n",
       "静安    1374\n",
       "徐汇    1156\n",
       "宝山     919\n",
       "嘉定     724\n",
       "黄浦     722\n",
       "杨浦     620\n",
       "普陀     530\n",
       "青浦     502\n",
       "奉贤     467\n",
       "浦东      62\n",
       "金山      15\n",
       "虹口       6\n",
       "长宁       1\n",
       "Name: district, dtype: int64"
      ]
     },
     "execution_count": 26,
     "metadata": {},
     "output_type": "execute_result"
    }
   ],
   "source": [
    "df=lianjia_df.copy()\n",
    "df['district'].value_counts()"
   ]
  },
  {
   "cell_type": "code",
   "execution_count": 17,
   "metadata": {},
   "outputs": [],
   "source": [
    "df['price']"
   ]
  },
  {
   "cell_type": "code",
   "execution_count": null,
   "metadata": {},
   "outputs": [],
   "source": []
  }
 ],
 "metadata": {
  "kernelspec": {
   "display_name": "Python 3",
   "language": "python",
   "name": "python3"
  },
  "language_info": {
   "codemirror_mode": {
    "name": "ipython",
    "version": 3
   },
   "file_extension": ".py",
   "mimetype": "text/x-python",
   "name": "python",
   "nbconvert_exporter": "python",
   "pygments_lexer": "ipython3",
   "version": "3.7.5"
  }
 },
 "nbformat": 4,
 "nbformat_minor": 1
}
