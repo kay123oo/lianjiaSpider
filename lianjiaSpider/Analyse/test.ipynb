{
 "cells": [
  {
   "cell_type": "code",
   "execution_count": 1,
   "metadata": {
    "collapsed": true
   },
   "outputs": [],
   "source": [
    "import numpy as np\n",
    "import pandas as pd\n",
    "from pymongo import MongoClient\n",
    "import matplotlib.pyplot as plt"
   ]
  },
  {
   "cell_type": "code",
   "execution_count": 2,
   "metadata": {},
   "outputs": [],
   "source": [
    "# 连接数据库\n",
    "client = MongoClient(host='127.0.0.1',port=27017)\n",
    "db = client.get_database(\"lianjia\")\n",
    "zufang_col = db.get_collection(\"zufang_sz\")\n",
    "data = zufang_col.find()"
   ]
  },
  {
   "cell_type": "code",
   "execution_count": 3,
   "metadata": {},
   "outputs": [
    {
     "name": "stdout",
     "output_type": "stream",
     "text": [
      "<class 'pandas.core.frame.DataFrame'>\nRangeIndex: 23710 entries, 0 to 23709\nData columns (total 12 columns):\n #   Column                Non-Null Count  Dtype \n---  ------                --------------  ----- \n 0   _id                   23710 non-null  object\n 1   dataDistributionType  23710 non-null  int64 \n 2   district              23710 non-null  object\n 3   microdistrict         23710 non-null  object\n 4   community             18218 non-null  object\n 5   area                  23710 non-null  int64 \n 6   orientation           18218 non-null  object\n 7   houseType             23710 non-null  object\n 8   tags                  23710 non-null  object\n 9   title                 23710 non-null  object\n 10  price                 23710 non-null  int64 \n 11  city                  23710 non-null  object\ndtypes: int64(3), object(9)\nmemory usage: 2.2+ MB\n"
     ]
    }
   ],
   "source": [
    "# 导入数据到dataframe\n",
    "df = pd.DataFrame(list(data))\n",
    "df.info()"
   ]
  },
  {
   "cell_type": "code",
   "execution_count": 4,
   "metadata": {},
   "outputs": [
    {
     "data": {
      "text/html": [
       "<div>\n",
       "<style scoped>\n",
       "    .dataframe tbody tr th:only-of-type {\n",
       "        vertical-align: middle;\n",
       "    }\n",
       "\n",
       "    .dataframe tbody tr th {\n",
       "        vertical-align: top;\n",
       "    }\n",
       "\n",
       "    .dataframe thead th {\n",
       "        text-align: right;\n",
       "    }\n",
       "</style>\n",
       "<table border=\"1\" class=\"dataframe\">\n",
       "  <thead>\n",
       "    <tr style=\"text-align: right;\">\n",
       "      <th></th>\n",
       "      <th>dataDistributionType</th>\n",
       "      <th>district</th>\n",
       "      <th>microdistrict</th>\n",
       "      <th>community</th>\n",
       "      <th>area</th>\n",
       "      <th>orientation</th>\n",
       "      <th>houseType</th>\n",
       "      <th>tags</th>\n",
       "      <th>title</th>\n",
       "      <th>price</th>\n",
       "    </tr>\n",
       "  </thead>\n",
       "  <tbody>\n",
       "    <tr>\n",
       "      <th>7043</th>\n",
       "      <td>1</td>\n",
       "      <td>宝安区</td>\n",
       "      <td>西乡</td>\n",
       "      <td>NaN</td>\n",
       "      <td>20</td>\n",
       "      <td>NaN</td>\n",
       "      <td>1室0厅1卫</td>\n",
       "      <td>[独栋公寓, 月租, 近地铁, 有阳台, 开放厨房, 押一付一]</td>\n",
       "      <td>独栋·壹时代公寓 后瑞店 单间1 开间</td>\n",
       "      <td>1640</td>\n",
       "    </tr>\n",
       "    <tr>\n",
       "      <th>3800</th>\n",
       "      <td>0</td>\n",
       "      <td>南山区</td>\n",
       "      <td>蛇口</td>\n",
       "      <td>招商桃花园</td>\n",
       "      <td>124</td>\n",
       "      <td>东南</td>\n",
       "      <td>3室2厅2卫</td>\n",
       "      <td>[官方核验, 近地铁, 双卫生间]</td>\n",
       "      <td>整租·招商桃花园 3室2厅 东南</td>\n",
       "      <td>13000</td>\n",
       "    </tr>\n",
       "    <tr>\n",
       "      <th>8599</th>\n",
       "      <td>1</td>\n",
       "      <td>宝安区</td>\n",
       "      <td>新安</td>\n",
       "      <td>NaN</td>\n",
       "      <td>23</td>\n",
       "      <td>NaN</td>\n",
       "      <td>1室0厅1卫</td>\n",
       "      <td>[独栋公寓, 月租, 拎包入住, 近地铁, 有阳台, 开放厨房]</td>\n",
       "      <td>独栋·大鱼·公寓 奕居店 地铁口200米单间 开间</td>\n",
       "      <td>1980</td>\n",
       "    </tr>\n",
       "    <tr>\n",
       "      <th>17498</th>\n",
       "      <td>0</td>\n",
       "      <td>宝安区</td>\n",
       "      <td>碧海</td>\n",
       "      <td>碧海富通城一期</td>\n",
       "      <td>112</td>\n",
       "      <td>南</td>\n",
       "      <td>3室1厅1卫</td>\n",
       "      <td>[官方核验]</td>\n",
       "      <td>整租·碧海富通城一期 3室1厅 南</td>\n",
       "      <td>7000</td>\n",
       "    </tr>\n",
       "    <tr>\n",
       "      <th>18860</th>\n",
       "      <td>1</td>\n",
       "      <td>龙华区</td>\n",
       "      <td>观澜</td>\n",
       "      <td>NaN</td>\n",
       "      <td>25</td>\n",
       "      <td>NaN</td>\n",
       "      <td>1室0厅1卫</td>\n",
       "      <td>[独栋公寓, 月租, 开放厨房, 押一付一]</td>\n",
       "      <td>独栋·佳寓 佳寓·深圳观澜汽车城店 白领公寓（东方禅意） 开间</td>\n",
       "      <td>1185</td>\n",
       "    </tr>\n",
       "  </tbody>\n",
       "</table>\n",
       "</div>"
      ],
      "text/plain": [
       "<div>\n",
       "<style scoped>\n",
       "    .dataframe tbody tr th:only-of-type {\n",
       "        vertical-align: middle;\n",
       "    }\n",
       "\n",
       "    .dataframe tbody tr th {\n",
       "        vertical-align: top;\n",
       "    }\n",
       "\n",
       "    .dataframe thead th {\n",
       "        text-align: right;\n",
       "    }\n",
       "</style>\n",
       "<table border=\"1\" class=\"dataframe\">\n",
       "  <thead>\n",
       "    <tr style=\"text-align: right;\">\n",
       "      <th></th>\n",
       "      <th>dataDistributionType</th>\n",
       "      <th>district</th>\n",
       "      <th>microdistrict</th>\n",
       "      <th>community</th>\n",
       "      <th>area</th>\n",
       "      <th>orientation</th>\n",
       "      <th>houseType</th>\n",
       "      <th>tags</th>\n",
       "      <th>title</th>\n",
       "      <th>price</th>\n",
       "    </tr>\n",
       "  </thead>\n",
       "  <tbody>\n",
       "    <tr>\n",
       "      <th>7043</th>\n",
       "      <td>1</td>\n",
       "      <td>宝安区</td>\n",
       "      <td>西乡</td>\n",
       "      <td>NaN</td>\n",
       "      <td>20</td>\n",
       "      <td>NaN</td>\n",
       "      <td>1室0厅1卫</td>\n",
       "      <td>[独栋公寓, 月租, 近地铁, 有阳台, 开放厨房, 押一付一]</td>\n",
       "      <td>独栋·壹时代公寓 后瑞店 单间1 开间</td>\n",
       "      <td>1640</td>\n",
       "    </tr>\n",
       "    <tr>\n",
       "      <th>3800</th>\n",
       "      <td>0</td>\n",
       "      <td>南山区</td>\n",
       "      <td>蛇口</td>\n",
       "      <td>招商桃花园</td>\n",
       "      <td>124</td>\n",
       "      <td>东南</td>\n",
       "      <td>3室2厅2卫</td>\n",
       "      <td>[官方核验, 近地铁, 双卫生间]</td>\n",
       "      <td>整租·招商桃花园 3室2厅 东南</td>\n",
       "      <td>13000</td>\n",
       "    </tr>\n",
       "    <tr>\n",
       "      <th>8599</th>\n",
       "      <td>1</td>\n",
       "      <td>宝安区</td>\n",
       "      <td>新安</td>\n",
       "      <td>NaN</td>\n",
       "      <td>23</td>\n",
       "      <td>NaN</td>\n",
       "      <td>1室0厅1卫</td>\n",
       "      <td>[独栋公寓, 月租, 拎包入住, 近地铁, 有阳台, 开放厨房]</td>\n",
       "      <td>独栋·大鱼·公寓 奕居店 地铁口200米单间 开间</td>\n",
       "      <td>1980</td>\n",
       "    </tr>\n",
       "    <tr>\n",
       "      <th>17498</th>\n",
       "      <td>0</td>\n",
       "      <td>宝安区</td>\n",
       "      <td>碧海</td>\n",
       "      <td>碧海富通城一期</td>\n",
       "      <td>112</td>\n",
       "      <td>南</td>\n",
       "      <td>3室1厅1卫</td>\n",
       "      <td>[官方核验]</td>\n",
       "      <td>整租·碧海富通城一期 3室1厅 南</td>\n",
       "      <td>7000</td>\n",
       "    </tr>\n",
       "    <tr>\n",
       "      <th>18860</th>\n",
       "      <td>1</td>\n",
       "      <td>龙华区</td>\n",
       "      <td>观澜</td>\n",
       "      <td>NaN</td>\n",
       "      <td>25</td>\n",
       "      <td>NaN</td>\n",
       "      <td>1室0厅1卫</td>\n",
       "      <td>[独栋公寓, 月租, 开放厨房, 押一付一]</td>\n",
       "      <td>独栋·佳寓 佳寓·深圳观澜汽车城店 白领公寓（东方禅意） 开间</td>\n",
       "      <td>1185</td>\n",
       "    </tr>\n",
       "  </tbody>\n",
       "</table>\n",
       "</div>"
      ]
     },
     "execution_count": 4,
     "metadata": {},
     "output_type": "execute_result"
    }
   ],
   "source": [
    "# 数据备份\n",
    "df2 = df.copy()\n",
    "# 将无用字段去掉\n",
    "df2 = df2.drop(columns=['_id','city'])\n",
    "df2.sample(5)"
   ]
  },
  {
   "cell_type": "code",
   "execution_count": 11,
   "metadata": {},
   "outputs": [
    {
     "data": {
      "text/html": [
       "<div>\n",
       "<style scoped>\n",
       "    .dataframe tbody tr th:only-of-type {\n",
       "        vertical-align: middle;\n",
       "    }\n",
       "\n",
       "    .dataframe tbody tr th {\n",
       "        vertical-align: top;\n",
       "    }\n",
       "\n",
       "    .dataframe thead th {\n",
       "        text-align: right;\n",
       "    }\n",
       "</style>\n",
       "<table border=\"1\" class=\"dataframe\">\n",
       "  <thead>\n",
       "    <tr style=\"text-align: right;\">\n",
       "      <th></th>\n",
       "      <th>dataDistributionType</th>\n",
       "      <th>district</th>\n",
       "      <th>microdistrict</th>\n",
       "      <th>community</th>\n",
       "      <th>area</th>\n",
       "      <th>orientation</th>\n",
       "      <th>houseType</th>\n",
       "      <th>tags</th>\n",
       "      <th>title</th>\n",
       "      <th>price</th>\n",
       "      <th>perPrice</th>\n",
       "    </tr>\n",
       "  </thead>\n",
       "  <tbody>\n",
       "    <tr>\n",
       "      <th>2025</th>\n",
       "      <td>0</td>\n",
       "      <td>南山区</td>\n",
       "      <td>科技园</td>\n",
       "      <td>晶品居</td>\n",
       "      <td>14</td>\n",
       "      <td>东</td>\n",
       "      <td>4室1厅1卫</td>\n",
       "      <td>[公寓, 月租, 精装, 随时看房]</td>\n",
       "      <td>合租·晶品居 4居室 东卧</td>\n",
       "      <td>2890</td>\n",
       "      <td>206.4</td>\n",
       "    </tr>\n",
       "    <tr>\n",
       "      <th>7959</th>\n",
       "      <td>1</td>\n",
       "      <td>宝安区</td>\n",
       "      <td>西乡</td>\n",
       "      <td>NaN</td>\n",
       "      <td>20</td>\n",
       "      <td>NaN</td>\n",
       "      <td>1室0厅1卫</td>\n",
       "      <td>[新上, 独栋公寓, 月租, 近地铁, 有阳台, 开放厨房]</td>\n",
       "      <td>独栋·禧邻公寓 南昌店 免管理费上下铺大单间 开间</td>\n",
       "      <td>1500</td>\n",
       "      <td>75.0</td>\n",
       "    </tr>\n",
       "    <tr>\n",
       "      <th>12464</th>\n",
       "      <td>0</td>\n",
       "      <td>龙岗区</td>\n",
       "      <td>布吉街</td>\n",
       "      <td>花语岸</td>\n",
       "      <td>85</td>\n",
       "      <td>东南</td>\n",
       "      <td>3室1厅1卫</td>\n",
       "      <td>[公寓, 月租, 近地铁, 精装, 随时看房]</td>\n",
       "      <td>整租·花语岸 3室1厅 东南</td>\n",
       "      <td>4830</td>\n",
       "      <td>56.8</td>\n",
       "    </tr>\n",
       "    <tr>\n",
       "      <th>15273</th>\n",
       "      <td>0</td>\n",
       "      <td>南山区</td>\n",
       "      <td>白石洲</td>\n",
       "      <td>祥祺花园</td>\n",
       "      <td>12</td>\n",
       "      <td>北</td>\n",
       "      <td>4室1厅2卫</td>\n",
       "      <td>[公寓, 月租, 近地铁, 精装, 独立阳台, 随时看房]</td>\n",
       "      <td>合租·祥祺花园 4居室 北卧</td>\n",
       "      <td>2790</td>\n",
       "      <td>232.5</td>\n",
       "    </tr>\n",
       "    <tr>\n",
       "      <th>22864</th>\n",
       "      <td>1</td>\n",
       "      <td>龙岗区</td>\n",
       "      <td>坂田</td>\n",
       "      <td>NaN</td>\n",
       "      <td>26</td>\n",
       "      <td>NaN</td>\n",
       "      <td>1室0厅1卫</td>\n",
       "      <td>[独栋公寓, 月租, 开放厨房]</td>\n",
       "      <td>独栋·乐窝公寓 1号楼 温馨大单间 开间</td>\n",
       "      <td>1450</td>\n",
       "      <td>55.8</td>\n",
       "    </tr>\n",
       "  </tbody>\n",
       "</table>\n",
       "</div>"
      ],
      "text/plain": [
       "<div>\n",
       "<style scoped>\n",
       "    .dataframe tbody tr th:only-of-type {\n",
       "        vertical-align: middle;\n",
       "    }\n",
       "\n",
       "    .dataframe tbody tr th {\n",
       "        vertical-align: top;\n",
       "    }\n",
       "\n",
       "    .dataframe thead th {\n",
       "        text-align: right;\n",
       "    }\n",
       "</style>\n",
       "<table border=\"1\" class=\"dataframe\">\n",
       "  <thead>\n",
       "    <tr style=\"text-align: right;\">\n",
       "      <th></th>\n",
       "      <th>dataDistributionType</th>\n",
       "      <th>district</th>\n",
       "      <th>microdistrict</th>\n",
       "      <th>community</th>\n",
       "      <th>area</th>\n",
       "      <th>orientation</th>\n",
       "      <th>houseType</th>\n",
       "      <th>tags</th>\n",
       "      <th>title</th>\n",
       "      <th>price</th>\n",
       "      <th>perPrice</th>\n",
       "    </tr>\n",
       "  </thead>\n",
       "  <tbody>\n",
       "    <tr>\n",
       "      <th>2025</th>\n",
       "      <td>0</td>\n",
       "      <td>南山区</td>\n",
       "      <td>科技园</td>\n",
       "      <td>晶品居</td>\n",
       "      <td>14</td>\n",
       "      <td>东</td>\n",
       "      <td>4室1厅1卫</td>\n",
       "      <td>[公寓, 月租, 精装, 随时看房]</td>\n",
       "      <td>合租·晶品居 4居室 东卧</td>\n",
       "      <td>2890</td>\n",
       "      <td>206.4</td>\n",
       "    </tr>\n",
       "    <tr>\n",
       "      <th>7959</th>\n",
       "      <td>1</td>\n",
       "      <td>宝安区</td>\n",
       "      <td>西乡</td>\n",
       "      <td>NaN</td>\n",
       "      <td>20</td>\n",
       "      <td>NaN</td>\n",
       "      <td>1室0厅1卫</td>\n",
       "      <td>[新上, 独栋公寓, 月租, 近地铁, 有阳台, 开放厨房]</td>\n",
       "      <td>独栋·禧邻公寓 南昌店 免管理费上下铺大单间 开间</td>\n",
       "      <td>1500</td>\n",
       "      <td>75.0</td>\n",
       "    </tr>\n",
       "    <tr>\n",
       "      <th>12464</th>\n",
       "      <td>0</td>\n",
       "      <td>龙岗区</td>\n",
       "      <td>布吉街</td>\n",
       "      <td>花语岸</td>\n",
       "      <td>85</td>\n",
       "      <td>东南</td>\n",
       "      <td>3室1厅1卫</td>\n",
       "      <td>[公寓, 月租, 近地铁, 精装, 随时看房]</td>\n",
       "      <td>整租·花语岸 3室1厅 东南</td>\n",
       "      <td>4830</td>\n",
       "      <td>56.8</td>\n",
       "    </tr>\n",
       "    <tr>\n",
       "      <th>15273</th>\n",
       "      <td>0</td>\n",
       "      <td>南山区</td>\n",
       "      <td>白石洲</td>\n",
       "      <td>祥祺花园</td>\n",
       "      <td>12</td>\n",
       "      <td>北</td>\n",
       "      <td>4室1厅2卫</td>\n",
       "      <td>[公寓, 月租, 近地铁, 精装, 独立阳台, 随时看房]</td>\n",
       "      <td>合租·祥祺花园 4居室 北卧</td>\n",
       "      <td>2790</td>\n",
       "      <td>232.5</td>\n",
       "    </tr>\n",
       "    <tr>\n",
       "      <th>22864</th>\n",
       "      <td>1</td>\n",
       "      <td>龙岗区</td>\n",
       "      <td>坂田</td>\n",
       "      <td>NaN</td>\n",
       "      <td>26</td>\n",
       "      <td>NaN</td>\n",
       "      <td>1室0厅1卫</td>\n",
       "      <td>[独栋公寓, 月租, 开放厨房]</td>\n",
       "      <td>独栋·乐窝公寓 1号楼 温馨大单间 开间</td>\n",
       "      <td>1450</td>\n",
       "      <td>55.8</td>\n",
       "    </tr>\n",
       "  </tbody>\n",
       "</table>\n",
       "</div>"
      ]
     },
     "execution_count": 11,
     "metadata": {},
     "output_type": "execute_result"
    }
   ],
   "source": [
    "# 计算房源每平方米的租金，并添加到dataframe里作为新的一列\n",
    "df2['perPrice'] = (df2['price'] / df2 ['area']).round(1)\n",
    "df2.sample(5)"
   ]
  },
  {
   "cell_type": "code",
   "execution_count": 16,
   "metadata": {
    "collapsed": true
   },
   "outputs": [
    {
     "data": {
      "text/plain": [
       "龙岗区     5919\n南山区     5406\n宝安区     4684\n福田区     3801\n龙华区     3339\n光明区      202\n盐田区      199\n坪山区      106\n大鹏新区      54\nName: district, dtype: int64"
      ]
     },
     "execution_count": 16,
     "metadata": {},
     "output_type": "execute_result"
    }
   ],
   "source": [
    "# 计算每个地区的房源数量\n",
    "# value_counts()  查询每个独特数值出现的次数统计\n",
    "\n",
    "df2['district'].value_counts()"
   ]
  },
  {
   "cell_type": "code",
   "execution_count": 23,
   "metadata": {},
   "outputs": [
    {
     "data": {
      "text/plain": [
       "district\n光明区      44.512376\n坪山区      52.078302\n大鹏新区     55.122222\n盐田区      75.731658\n龙岗区      82.934651\n宝安区      98.320581\n龙华区      98.657293\n南山区     153.583537\n福田区     158.109050\nName: perPrice, dtype: float64"
      ]
     },
     "execution_count": 23,
     "metadata": {},
     "output_type": "execute_result"
    }
   ],
   "source": [
    "# 计算每个地区的平均房价\n",
    "\n",
    "mean_price_per_region = df2.groupby(df2['district'])\n",
    "mean_price_per_region['perPrice'].mean().sort_values()"
   ]
  },
  {
   "cell_type": "code",
   "execution_count": 27,
   "metadata": {},
   "outputs": [],
   "source": [
    "###  房屋大小对每平方米租金的影响如何\n",
    "import seaborn as sns\n"
   ]
  },
  {
   "cell_type": "code",
   "execution_count": 41,
   "metadata": {},
   "outputs": [],
   "source": [
    "def area_price_relation(data=df2):\n",
    "    fig = plt.figure(dpi=100)\n",
    "    g = sns.lineplot(x=\"area\",\n",
    "                     y='perPrice',\n",
    "                     data=data[(data['area']<100)],\n",
    "                     ci=None)\n",
    "    g.set_xlabel('面积',fontweight='bold')\n",
    "    g.set_ylabel('每平米均价',fontweight='bold')\n",
    "    return g\n",
    "\n"
   ]
  },
  {
   "cell_type": "code",
   "execution_count": 42,
   "metadata": {},
   "outputs": [],
   "source": [
    "plt.style.use('ggplot')\n",
    "from pylab import mpl\n",
    "mpl.rcParams['font.sans-serif'] = ['SimHei']  #解决seaborn中文字体显示问题\n",
    "plt.rc('figure', figsize=(10, 10))  #把plt默认的图片size调大一点\n",
    "plt.rcParams[\"figure.dpi\"] =mpl.rcParams['axes.unicode_minus'] = False # 解决保存图像是负号'-'显示为方块的问题\n",
    "%matplotlib inline"
   ]
  },
  {
   "cell_type": "code",
   "execution_count": 43,
   "metadata": {},
   "outputs": [
    {
     "data": {
      "text/plain": [
       "<matplotlib.axes._subplots.AxesSubplot at 0x25841f00988>"
      ]
     },
     "execution_count": 43,
     "metadata": {},
     "output_type": "execute_result"
    },
    {
     "data": {
      "image/png": "[encoded data removed]",
      "text/plain": [
       "<Figure size 600x400 with 1 Axes>"
      ]
     },
     "metadata": {},
     "output_type": "display_data"
    }
   ],
   "source": [
    "area_price_relation()"
   ]
  },
  {
   "cell_type": "code",
   "execution_count": 44,
   "metadata": {},
   "outputs": [
    {
     "data": {
      "text/plain": [
       "23.16"
      ]
     },
     "execution_count": 44,
     "metadata": {},
     "output_type": "execute_result"
    }
   ],
   "source": [
    "# 房源中公寓和个人房源占比\n",
    "np.round(df2['dataDistributionType'].mean()*100,2)"
   ]
  },
  {
   "cell_type": "code",
   "execution_count": 58,
   "metadata": {},
   "outputs": [
    {
     "name": "stdout",
     "output_type": "stream",
     "text": [
      "nan\nnan\n"
     ]
    }
   ],
   "source": [
    "# 精装和简装对房子价格的影响\n",
    "from pyecharts.charts import Bar\n",
    "\n",
    "df2['decorated'] = df2[df2['tags'].notna()]['tags'].str.contains('精装')    # 添加新字段 是否精装\n",
    "decorated= df2[df2['decorated']==1]['perPrice'].mean()                      # 计算精装房子每平米均价\n",
    "not_decorated = df2[df2['decorated']==0]['perPrice'].mean()                 # 计算简装房子每平米均价\n",
    "\n",
    "print(decorated)\n",
    "print(not_decorated)\n",
    "\n",
    "\n",
    "\n",
    "\n"
   ]
  },
  {
   "cell_type": "code",
   "execution_count": 57,
   "metadata": {
    "collapsed": false
   },
   "outputs": [
    {
     "ename": "ValueError",
     "evalue": "cannot convert float NaN to integer",
     "traceback": [
      "\u001b[1;31m---------------------------------------------------------------------------\u001b[0m",
      "\u001b[1;31mValueError\u001b[0m                                Traceback (most recent call last)",
      "\u001b[1;32m<ipython-input-57-0336b46a95b3>\u001b[0m in \u001b[0;36m<module>\u001b[1;34m\u001b[0m\n\u001b[0;32m      1\u001b[0m \u001b[0mbar\u001b[0m \u001b[1;33m=\u001b[0m \u001b[0mBar\u001b[0m\u001b[1;33m(\u001b[0m\u001b[1;33m)\u001b[0m\u001b[1;33m\u001b[0m\u001b[1;33m\u001b[0m\u001b[0m\n\u001b[1;32m----> 2\u001b[1;33m \u001b[0mbar\u001b[0m\u001b[1;33m.\u001b[0m\u001b[0madd_yaxis\u001b[0m\u001b[1;33m(\u001b[0m\u001b[1;34m\"平均租金\"\u001b[0m \u001b[1;33m[\u001b[0m\u001b[0mint\u001b[0m\u001b[1;33m(\u001b[0m\u001b[0mnp\u001b[0m\u001b[1;33m.\u001b[0m\u001b[0mround\u001b[0m\u001b[1;33m(\u001b[0m\u001b[0mdecorated\u001b[0m\u001b[1;33m,\u001b[0m \u001b[1;36m0\u001b[0m\u001b[1;33m)\u001b[0m\u001b[1;33m)\u001b[0m\u001b[1;33m,\u001b[0m \u001b[0mint\u001b[0m\u001b[1;33m(\u001b[0m\u001b[0mnp\u001b[0m\u001b[1;33m.\u001b[0m\u001b[0mround\u001b[0m\u001b[1;33m(\u001b[0m\u001b[0mnot_decorated\u001b[0m\u001b[1;33m,\u001b[0m \u001b[1;36m0\u001b[0m\u001b[1;33m)\u001b[0m\u001b[1;33m)\u001b[0m\u001b[1;33m]\u001b[0m\u001b[1;33m)\u001b[0m\u001b[1;33m\u001b[0m\u001b[1;33m\u001b[0m\u001b[0m\n\u001b[0m\u001b[0;32m      3\u001b[0m \u001b[0mbar\u001b[0m\u001b[1;33m.\u001b[0m\u001b[0madd_xaxis\u001b[0m\u001b[1;33m(\u001b[0m\u001b[1;33m[\u001b[0m\u001b[1;34m\"精装\"\u001b[0m\u001b[1;33m,\u001b[0m\u001b[1;34m\"简装\"\u001b[0m\u001b[1;33m]\u001b[0m\u001b[1;33m)\u001b[0m\u001b[1;33m\u001b[0m\u001b[1;33m\u001b[0m\u001b[0m\n\u001b[0;32m      4\u001b[0m \u001b[0mbar\u001b[0m\u001b[1;33m.\u001b[0m\u001b[0mset_global_opts\u001b[0m\u001b[1;33m(\u001b[0m\u001b[0mtitle_opts\u001b[0m\u001b[1;33m=\u001b[0m\u001b[0mopts\u001b[0m\u001b[1;33m.\u001b[0m\u001b[0mTitleOpts\u001b[0m\u001b[1;33m(\u001b[0m\u001b[0mtitle\u001b[0m\u001b[1;33m=\u001b[0m\u001b[1;34m\"精装与简装对每平方租金的影响\"\u001b[0m\u001b[1;33m)\u001b[0m\u001b[1;33m)\u001b[0m\u001b[1;33m\u001b[0m\u001b[1;33m\u001b[0m\u001b[0m\n\u001b[0;32m      5\u001b[0m \u001b[0mbar\u001b[0m\u001b[1;33m.\u001b[0m\u001b[0mrender\u001b[0m\u001b[1;33m(\u001b[0m\u001b[1;34m'decorated_and_not_decorated.html'\u001b[0m\u001b[1;33m)\u001b[0m\u001b[1;33m\u001b[0m\u001b[1;33m\u001b[0m\u001b[0m\n",
      "\u001b[1;31mValueError\u001b[0m: cannot convert float NaN to integer"
     ],
     "output_type": "error"
    }
   ],
   "source": [
    "bar = Bar()\n",
    "bar.add_yaxis(\"平均租金\" [int(np.round(decorated, 0)), int(np.round(not_decorated, 0))])\n",
    "bar.add_xaxis([\"精装\",\"简装\"])\n",
    "bar.set_global_opts(title_opts=opts.TitleOpts(title=\"精装与简装对每平方租金的影响\"))\n",
    "bar.render('decorated_and_not_decorated.html')"
   ]
  },
  {
   "cell_type": "code",
   "execution_count": null,
   "metadata": {},
   "outputs": [],
   "source": []
  }
 ],
 "metadata": {
  "kernelspec": {
   "display_name": "Python 2",
   "language": "python",
   "name": "python2"
  },
  "language_info": {
   "codemirror_mode": {
    "name": "ipython",
    "version": 2
   },
   "file_extension": ".py",
   "mimetype": "text/x-python",
   "name": "python",
   "nbconvert_exporter": "python",
   "pygments_lexer": "ipython2",
   "version": "2.7.6"
  }
 },
 "nbformat": 4,
 "nbformat_minor": 0
}
