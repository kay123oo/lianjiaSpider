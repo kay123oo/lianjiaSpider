{
 "cells": [
  {
   "cell_type": "code",
   "execution_count": 22,
   "metadata": {},
   "outputs": [],
   "source": [
    "import pandas as pd\n",
    "import numpy as np\n",
    "from pymongo import MongoClient\n",
    "import matplotlib.pyplot as plt\n"
   ]
  },
  {
   "cell_type": "code",
   "execution_count": 23,
   "metadata": {},
   "outputs": [],
   "source": [
    "conn = MongoClient(host='127.0.0.1', port=27017)  # 实例化MongoClient\n",
    "db = conn.get_database('lianjia')  # 连接到Lianjia数据库\n",
    "\n",
    "zufang = db.get_collection('zufang_sh') # 连接到集合zufang\n",
    "mon_data = zufang.find()  # 查询这个集合下的所有记录\n"
   ]
  },
  {
   "cell_type": "code",
   "execution_count": 24,
   "metadata": {},
   "outputs": [],
   "source": [
    "lianjia_df=pd.DataFrame(list(mon_data))\n"
   ]
  },
  {
   "cell_type": "code",
   "execution_count": 25,
   "metadata": {},
   "outputs": [
    {
     "data": {
      "text/html": [
       "<div>\n",
       "<style scoped>\n",
       "    .dataframe tbody tr th:only-of-type {\n",
       "        vertical-align: middle;\n",
       "    }\n",
       "\n",
       "    .dataframe tbody tr th {\n",
       "        vertical-align: top;\n",
       "    }\n",
       "\n",
       "    .dataframe thead th {\n",
       "        text-align: right;\n",
       "    }\n",
       "</style>\n",
       "<table border=\"1\" class=\"dataframe\">\n",
       "  <thead>\n",
       "    <tr style=\"text-align: right;\">\n",
       "      <th></th>\n",
       "      <th>_id</th>\n",
       "      <th>dataDistributionType</th>\n",
       "      <th>district</th>\n",
       "      <th>microdistrict</th>\n",
       "      <th>community</th>\n",
       "      <th>area</th>\n",
       "      <th>orientation</th>\n",
       "      <th>houseType</th>\n",
       "      <th>title</th>\n",
       "      <th>price</th>\n",
       "      <th>city</th>\n",
       "      <th>longitude</th>\n",
       "      <th>latitude</th>\n",
       "      <th>floor</th>\n",
       "      <th>distance</th>\n",
       "      <th>hall_num</th>\n",
       "      <th>bedroom_num</th>\n",
       "      <th>bathroom_num</th>\n",
       "      <th>tags</th>\n",
       "    </tr>\n",
       "  </thead>\n",
       "  <tbody>\n",
       "    <tr>\n",
       "      <th>0</th>\n",
       "      <td>5e61273337b6555f60f75562</td>\n",
       "      <td>0</td>\n",
       "      <td>普陀</td>\n",
       "      <td>甘泉宜川</td>\n",
       "      <td>新宜小区</td>\n",
       "      <td>35</td>\n",
       "      <td>南</td>\n",
       "      <td>1室0厅1卫</td>\n",
       "      <td>整租·新宜小区 1室0厅 南</td>\n",
       "      <td>3500</td>\n",
       "      <td>上海</td>\n",
       "      <td>121.44253</td>\n",
       "      <td>31.27199</td>\n",
       "      <td>6</td>\n",
       "      <td>NaN</td>\n",
       "      <td>1</td>\n",
       "      <td>0</td>\n",
       "      <td>1</td>\n",
       "      <td>NaN</td>\n",
       "    </tr>\n",
       "    <tr>\n",
       "      <th>1</th>\n",
       "      <td>5e61273737b6555f60f75563</td>\n",
       "      <td>0</td>\n",
       "      <td>普陀</td>\n",
       "      <td>甘泉宜川</td>\n",
       "      <td>新宜小区</td>\n",
       "      <td>34</td>\n",
       "      <td>南</td>\n",
       "      <td>1室1厅1卫</td>\n",
       "      <td>整租·新宜小区 1室1厅 南</td>\n",
       "      <td>3700</td>\n",
       "      <td>上海</td>\n",
       "      <td>121.44253</td>\n",
       "      <td>31.27199</td>\n",
       "      <td>6</td>\n",
       "      <td>NaN</td>\n",
       "      <td>1</td>\n",
       "      <td>1</td>\n",
       "      <td>1</td>\n",
       "      <td>NaN</td>\n",
       "    </tr>\n",
       "    <tr>\n",
       "      <th>2</th>\n",
       "      <td>5e61274637b6555f60f75564</td>\n",
       "      <td>0</td>\n",
       "      <td>普陀</td>\n",
       "      <td>真如</td>\n",
       "      <td>樱花苑</td>\n",
       "      <td>60</td>\n",
       "      <td>南</td>\n",
       "      <td>2室1厅1卫</td>\n",
       "      <td>整租·樱花苑 2室1厅 南</td>\n",
       "      <td>4300</td>\n",
       "      <td>上海</td>\n",
       "      <td>121.4002071</td>\n",
       "      <td>31.25485805</td>\n",
       "      <td>6</td>\n",
       "      <td>NaN</td>\n",
       "      <td>2</td>\n",
       "      <td>1</td>\n",
       "      <td>1</td>\n",
       "      <td>NaN</td>\n",
       "    </tr>\n",
       "  </tbody>\n",
       "</table>\n",
       "</div>"
      ],
      "text/plain": [
       "                        _id  dataDistributionType district microdistrict  \\\n",
       "0  5e61273337b6555f60f75562                     0       普陀          甘泉宜川   \n",
       "1  5e61273737b6555f60f75563                     0       普陀          甘泉宜川   \n",
       "2  5e61274637b6555f60f75564                     0       普陀            真如   \n",
       "\n",
       "  community  area orientation houseType           title  price city  \\\n",
       "0      新宜小区    35           南    1室0厅1卫  整租·新宜小区 1室0厅 南   3500   上海   \n",
       "1      新宜小区    34           南    1室1厅1卫  整租·新宜小区 1室1厅 南   3700   上海   \n",
       "2       樱花苑    60           南    2室1厅1卫   整租·樱花苑 2室1厅 南   4300   上海   \n",
       "\n",
       "     longitude     latitude  floor  distance  hall_num  bedroom_num  \\\n",
       "0    121.44253     31.27199      6       NaN         1            0   \n",
       "1    121.44253     31.27199      6       NaN         1            1   \n",
       "2  121.4002071  31.25485805      6       NaN         2            1   \n",
       "\n",
       "   bathroom_num tags  \n",
       "0             1  NaN  \n",
       "1             1  NaN  \n",
       "2             1  NaN  "
      ]
     },
     "execution_count": 25,
     "metadata": {},
     "output_type": "execute_result"
    }
   ],
   "source": [
    "lianjia_df.head(3)"
   ]
  },
  {
   "cell_type": "code",
   "execution_count": 26,
   "metadata": {},
   "outputs": [
    {
     "data": {
      "text/plain": [
       "闵行    2212\n",
       "松江    1691\n",
       "静安    1374\n",
       "徐汇    1156\n",
       "宝山     919\n",
       "嘉定     724\n",
       "黄浦     722\n",
       "杨浦     620\n",
       "普陀     530\n",
       "青浦     502\n",
       "奉贤     467\n",
       "浦东      62\n",
       "金山      15\n",
       "虹口       6\n",
       "长宁       1\n",
       "Name: district, dtype: int64"
      ]
     },
     "execution_count": 26,
     "metadata": {},
     "output_type": "execute_result"
    }
   ],
   "source": [
    "df=lianjia_df.copy()\n",
    "df['district'].value_counts()"
   ]
  },
  {
   "cell_type": "code",
   "execution_count": 27,
   "metadata": {},
   "outputs": [
    {
     "data": {
      "text/plain": [
       "9012.893100627216"
      ]
     },
     "execution_count": 27,
     "metadata": {},
     "output_type": "execute_result"
    }
   ],
   "source": [
    "df['price'].mean()"
   ]
  },
  {
   "cell_type": "code",
   "execution_count": 28,
   "metadata": {},
   "outputs": [
    {
     "data": {
      "text/html": [
       "<div>\n",
       "<style scoped>\n",
       "    .dataframe tbody tr th:only-of-type {\n",
       "        vertical-align: middle;\n",
       "    }\n",
       "\n",
       "    .dataframe tbody tr th {\n",
       "        vertical-align: top;\n",
       "    }\n",
       "\n",
       "    .dataframe thead th {\n",
       "        text-align: right;\n",
       "    }\n",
       "</style>\n",
       "<table border=\"1\" class=\"dataframe\">\n",
       "  <thead>\n",
       "    <tr style=\"text-align: right;\">\n",
       "      <th></th>\n",
       "      <th>price</th>\n",
       "    </tr>\n",
       "    <tr>\n",
       "      <th>district</th>\n",
       "      <th></th>\n",
       "    </tr>\n",
       "  </thead>\n",
       "  <tbody>\n",
       "    <tr>\n",
       "      <th>嘉定</th>\n",
       "      <td>4389.198895</td>\n",
       "    </tr>\n",
       "    <tr>\n",
       "      <th>奉贤</th>\n",
       "      <td>2586.145610</td>\n",
       "    </tr>\n",
       "    <tr>\n",
       "      <th>宝山</th>\n",
       "      <td>5410.511425</td>\n",
       "    </tr>\n",
       "    <tr>\n",
       "      <th>徐汇</th>\n",
       "      <td>11737.724913</td>\n",
       "    </tr>\n",
       "    <tr>\n",
       "      <th>普陀</th>\n",
       "      <td>8075.377358</td>\n",
       "    </tr>\n",
       "    <tr>\n",
       "      <th>杨浦</th>\n",
       "      <td>7863.629032</td>\n",
       "    </tr>\n",
       "    <tr>\n",
       "      <th>松江</th>\n",
       "      <td>6432.719692</td>\n",
       "    </tr>\n",
       "    <tr>\n",
       "      <th>浦东</th>\n",
       "      <td>18412.903226</td>\n",
       "    </tr>\n",
       "    <tr>\n",
       "      <th>虹口</th>\n",
       "      <td>23000.000000</td>\n",
       "    </tr>\n",
       "    <tr>\n",
       "      <th>金山</th>\n",
       "      <td>2946.666667</td>\n",
       "    </tr>\n",
       "    <tr>\n",
       "      <th>长宁</th>\n",
       "      <td>7000.000000</td>\n",
       "    </tr>\n",
       "    <tr>\n",
       "      <th>闵行</th>\n",
       "      <td>9292.768535</td>\n",
       "    </tr>\n",
       "    <tr>\n",
       "      <th>青浦</th>\n",
       "      <td>12627.420319</td>\n",
       "    </tr>\n",
       "    <tr>\n",
       "      <th>静安</th>\n",
       "      <td>12209.147744</td>\n",
       "    </tr>\n",
       "    <tr>\n",
       "      <th>黄浦</th>\n",
       "      <td>15499.155125</td>\n",
       "    </tr>\n",
       "  </tbody>\n",
       "</table>\n",
       "</div>"
      ],
      "text/plain": [
       "                 price\n",
       "district              \n",
       "嘉定         4389.198895\n",
       "奉贤         2586.145610\n",
       "宝山         5410.511425\n",
       "徐汇        11737.724913\n",
       "普陀         8075.377358\n",
       "杨浦         7863.629032\n",
       "松江         6432.719692\n",
       "浦东        18412.903226\n",
       "虹口        23000.000000\n",
       "金山         2946.666667\n",
       "长宁         7000.000000\n",
       "闵行         9292.768535\n",
       "青浦        12627.420319\n",
       "静安        12209.147744\n",
       "黄浦        15499.155125"
      ]
     },
     "execution_count": 28,
     "metadata": {},
     "output_type": "execute_result"
    }
   ],
   "source": [
    "df.pivot_table('price', index='district', aggfunc='mean')\n"
   ]
  },
  {
   "cell_type": "code",
   "execution_count": 31,
   "metadata": {},
   "outputs": [
    {
     "data": {
      "text/plain": [
       "8599     308000\n",
       "370      280000\n",
       "3468     250000\n",
       "3347     200000\n",
       "8403     180000\n",
       "3295     170000\n",
       "10546    160000\n",
       "8826     150000\n",
       "8537     130000\n",
       "7182     130000\n",
       "Name: price, dtype: int64"
      ]
     },
     "execution_count": 31,
     "metadata": {},
     "output_type": "execute_result"
    }
   ],
   "source": [
    "df.sort_values('price', ascending=False)['price'][:10]\n"
   ]
  },
  {
   "cell_type": "code",
   "execution_count": 33,
   "metadata": {},
   "outputs": [
    {
     "data": {
      "text/plain": [
       "array([1, 2, 4, 3, 5, 6, 8, 9, 7], dtype=int64)"
      ]
     },
     "execution_count": 33,
     "metadata": {},
     "output_type": "execute_result"
    }
   ],
   "source": [
    "df['hall_num'].unique()"
   ]
  },
  {
   "cell_type": "code",
   "execution_count": 34,
   "metadata": {},
   "outputs": [
    {
     "data": {
      "text/html": [
       "<div>\n",
       "<style scoped>\n",
       "    .dataframe tbody tr th:only-of-type {\n",
       "        vertical-align: middle;\n",
       "    }\n",
       "\n",
       "    .dataframe tbody tr th {\n",
       "        vertical-align: top;\n",
       "    }\n",
       "\n",
       "    .dataframe thead th {\n",
       "        text-align: right;\n",
       "    }\n",
       "</style>\n",
       "<table border=\"1\" class=\"dataframe\">\n",
       "  <thead>\n",
       "    <tr style=\"text-align: right;\">\n",
       "      <th></th>\n",
       "      <th>_id</th>\n",
       "      <th>dataDistributionType</th>\n",
       "      <th>district</th>\n",
       "      <th>microdistrict</th>\n",
       "      <th>community</th>\n",
       "      <th>area</th>\n",
       "      <th>orientation</th>\n",
       "      <th>houseType</th>\n",
       "      <th>title</th>\n",
       "      <th>price</th>\n",
       "      <th>city</th>\n",
       "      <th>longitude</th>\n",
       "      <th>latitude</th>\n",
       "      <th>floor</th>\n",
       "      <th>distance</th>\n",
       "      <th>hall_num</th>\n",
       "      <th>bedroom_num</th>\n",
       "      <th>bathroom_num</th>\n",
       "      <th>tags</th>\n",
       "    </tr>\n",
       "  </thead>\n",
       "  <tbody>\n",
       "  </tbody>\n",
       "</table>\n",
       "</div>"
      ],
      "text/plain": [
       "Empty DataFrame\n",
       "Columns: [_id, dataDistributionType, district, microdistrict, community, area, orientation, houseType, title, price, city, longitude, latitude, floor, distance, hall_num, bedroom_num, bathroom_num, tags]\n",
       "Index: []"
      ]
     },
     "execution_count": 34,
     "metadata": {},
     "output_type": "execute_result"
    }
   ],
   "source": [
    "df[df['hall_num'].isin(['6,8,9,7'])]"
   ]
  },
  {
   "cell_type": "code",
   "execution_count": 35,
   "metadata": {},
   "outputs": [
    {
     "data": {
      "text/plain": [
       "array([1, 2, 4, 3, 5, 6, 8, 9, 7], dtype=int64)"
      ]
     },
     "execution_count": 35,
     "metadata": {},
     "output_type": "execute_result"
    }
   ],
   "source": [
    "df['hall_num'].unique()"
   ]
  },
  {
   "cell_type": "code",
   "execution_count": 36,
   "metadata": {},
   "outputs": [],
   "source": [
    "df =df.drop(df[df['area']<5].index)"
   ]
  },
  {
   "cell_type": "code",
   "execution_count": 37,
   "metadata": {},
   "outputs": [
    {
     "data": {
      "text/plain": [
       "array([  3500,   3700,   4300,  25000,  10000,   5999,   4000,   7800,\n",
       "         4200,   3600,   3800,   7600,   8200,  28000,   4500,   7000,\n",
       "         5400,   9500,   4100,   3300,  18000,  20000,  13000,   9000,\n",
       "         3200,  11000,  16500,  23000,  26000,  30000,  15000,   5000,\n",
       "        26500,   8000,   8500,  14000,  22000,   6200,   7200,   6500,\n",
       "         8800,  22500,  36000,   7500,  38000,  35000,  40000,  25800,\n",
       "         8900,   6800,  19000,   6600,   4900,   6000,   4800,  12000,\n",
       "         5800,   5500,   5300,   5200,   2900,  11500,   4600,  13500,\n",
       "        16000,  34000,  24000,  13650,  17000,   3490,   7100,   8600,\n",
       "         4400,  42000,  20500,  80000,   9800,  29000,  27000,  18500,\n",
       "         1800,   9400,   5600,   3400,   5700,   3100,  21000,   7300,\n",
       "         2600,   5100,   6700,  13168, 280000,   5900,   3980,   9200,\n",
       "        45000,  23520,  20800,   5750,   2300,   9900,   2400,   7900,\n",
       "        17500, 128000,   3000,  32000,   6900,  19800,   2350,   8300,\n",
       "         8150,   2700,   2000,   1900,   1550,   1500,   2800,   2100,\n",
       "         2200,   1200,   1300,   1400,   2500,   1600,   1700,   3900,\n",
       "        14500,   4700,   1100,  31000,  10500,   7390,  10800,   8700,\n",
       "        15500,  12500,   1850,  37000,   6300,   7700,  90000,  68000,\n",
       "         4330,  34999,  10700,  43000,  52000,  28500,  12800,  50000,\n",
       "        13800,  75000,  26800,  33000,  48000,  66000,  60000,  70000,\n",
       "         2850,   3750,   4850,   2650,   1680,   6400,  29998,   3499,\n",
       "         6100,   8400,   3950,   4989,   9600,   1000,  22800,  19999,\n",
       "        85000,   6888,   2950,   4250,  16643,   2450,  65000,   2250,\n",
       "         1950,  46000,  41500,  15960,   9100,   9300, 170000,   8100,\n",
       "        24500,   4680, 200000,   4480,  51000,  18800,  58000,  44000,\n",
       "        42500,   5480,  13490, 250000,   5580,   7480,  11300,  13600,\n",
       "        16800,   4960,  41700,  63000,   3280,  21600,  72000,  15999,\n",
       "         5090,   4350,   4950,   4580,   5460,  55000,   4650,   3650,\n",
       "         3450,   2970,   2050,  95000,  11800, 100000,  47000,  16600,\n",
       "       110000,   5680,   6550,  21500,  27500,  33500,  29800,  25999,\n",
       "        34500,  15800,  13200,   4666,  12900,  14800,   1980,   4380,\n",
       "         3350,  13400,   7400,  32500, 105000,   9700,   4750,   1380,\n",
       "        13100,  14900,   4999,  39000,   3150,   4290,   3850,   5990,\n",
       "        49000,  29700, 130000,  14200,  69800,  19500,  47500,  22600,\n",
       "        53000,   5450,  12600,  13700,   4150,   7150,   6950,   5950,\n",
       "        17800,  22400,  24800,  11900,  17300,  11200,  24200,   7990,\n",
       "         5190,  23500,  45500,  46800,   3550,  10400,   5280, 180000,\n",
       "        13300,  36800,  59000, 308000,  15600,  87469,  14300, 150000,\n",
       "        18200,  11700,  16300,  17600, 120000,  31500,  62000,   7050,\n",
       "        15900,  18700,  20200,  18600,  19300,  12300,  12700,   3250,\n",
       "         4180,   2888,   4050,   3999,   5150,   2550, 160000,  37800,\n",
       "         7080,  10200,  10600], dtype=int64)"
      ]
     },
     "execution_count": 37,
     "metadata": {},
     "output_type": "execute_result"
    }
   ],
   "source": [
    "df['price'].unique()"
   ]
  },
  {
   "cell_type": "code",
   "execution_count": 38,
   "metadata": {},
   "outputs": [],
   "source": [
    "df =df.drop(df[df['price']>100000].index)"
   ]
  },
  {
   "cell_type": "code",
   "execution_count": 39,
   "metadata": {},
   "outputs": [
    {
     "data": {
      "text/plain": [
       "array([  3500,   3700,   4300,  25000,  10000,   5999,   4000,   7800,\n",
       "         4200,   3600,   3800,   7600,   8200,  28000,   4500,   7000,\n",
       "         5400,   9500,   4100,   3300,  18000,  20000,  13000,   9000,\n",
       "         3200,  11000,  16500,  23000,  26000,  30000,  15000,   5000,\n",
       "        26500,   8000,   8500,  14000,  22000,   6200,   7200,   6500,\n",
       "         8800,  22500,  36000,   7500,  38000,  35000,  40000,  25800,\n",
       "         8900,   6800,  19000,   6600,   4900,   6000,   4800,  12000,\n",
       "         5800,   5500,   5300,   5200,   2900,  11500,   4600,  13500,\n",
       "        16000,  34000,  24000,  13650,  17000,   3490,   7100,   8600,\n",
       "         4400,  42000,  20500,  80000,   9800,  29000,  27000,  18500,\n",
       "         1800,   9400,   5600,   3400,   5700,   3100,  21000,   7300,\n",
       "         2600,   5100,   6700,  13168,   5900,   3980,   9200,  45000,\n",
       "        23520,  20800,   5750,   2300,   9900,   2400,   7900,  17500,\n",
       "         3000,  32000,   6900,  19800,   2350,   8300,   8150,   2700,\n",
       "         2000,   1900,   1550,   1500,   2800,   2100,   2200,   1200,\n",
       "         1300,   1400,   2500,   1600,   1700,   3900,  14500,   4700,\n",
       "         1100,  31000,  10500,   7390,  10800,   8700,  15500,  12500,\n",
       "         1850,  37000,   6300,   7700,  90000,  68000,   4330,  34999,\n",
       "        10700,  43000,  52000,  28500,  12800,  50000,  13800,  75000,\n",
       "        26800,  33000,  48000,  66000,  60000,  70000,   2850,   3750,\n",
       "         4850,   2650,   1680,   6400,  29998,   3499,   6100,   8400,\n",
       "         3950,   4989,   9600,   1000,  22800,  19999,  85000,   6888,\n",
       "         2950,   4250,  16643,   2450,  65000,   2250,   1950,  46000,\n",
       "        41500,  15960,   9100,   9300,   8100,  24500,   4680,   4480,\n",
       "        51000,  18800,  58000,  44000,  42500,   5480,  13490,   5580,\n",
       "         7480,  11300,  13600,  16800,   4960,  41700,  63000,   3280,\n",
       "        21600,  72000,  15999,   5090,   4350,   4950,   4580,   5460,\n",
       "        55000,   4650,   3650,   3450,   2970,   2050,  95000,  11800,\n",
       "       100000,  47000,  16600,   5680,   6550,  21500,  27500,  33500,\n",
       "        29800,  25999,  34500,  15800,  13200,   4666,  12900,  14800,\n",
       "         1980,   4380,   3350,  13400,   7400,  32500,   9700,   4750,\n",
       "         1380,  13100,  14900,   4999,  39000,   3150,   4290,   3850,\n",
       "         5990,  49000,  29700,  14200,  69800,  19500,  47500,  22600,\n",
       "        53000,   5450,  12600,  13700,   4150,   7150,   6950,   5950,\n",
       "        17800,  22400,  24800,  11900,  17300,  11200,  24200,   7990,\n",
       "         5190,  23500,  45500,  46800,   3550,  10400,   5280,  13300,\n",
       "        36800,  59000,  15600,  87469,  14300,  18200,  11700,  16300,\n",
       "        17600,  31500,  62000,   7050,  15900,  18700,  20200,  18600,\n",
       "        19300,  12300,  12700,   3250,   4180,   2888,   4050,   3999,\n",
       "         5150,   2550,  37800,   7080,  10200,  10600], dtype=int64)"
      ]
     },
     "execution_count": 39,
     "metadata": {},
     "output_type": "execute_result"
    }
   ],
   "source": [
    "df['price'].unique()"
   ]
  },
  {
   "cell_type": "code",
   "execution_count": 41,
   "metadata": {},
   "outputs": [
    {
     "data": {
      "text/plain": [
       "8785.209122359796"
      ]
     },
     "execution_count": 41,
     "metadata": {},
     "output_type": "execute_result"
    }
   ],
   "source": [
    "df['price'].mean()"
   ]
  },
  {
   "cell_type": "code",
   "execution_count": 44,
   "metadata": {},
   "outputs": [
    {
     "ename": "ValueError",
     "evalue": "arrays must all be same length",
     "traceback": [
      "\u001b[1;31m---------------------------------------------------------------------------\u001b[0m",
      "\u001b[1;31mValueError\u001b[0m                                Traceback (most recent call last)",
      "\u001b[1;32m<ipython-input-44-c006a0e1882f>\u001b[0m in \u001b[0;36m<module>\u001b[1;34m\u001b[0m\n\u001b[1;32m----> 1\u001b[1;33m \u001b[0mdf_all\u001b[0m \u001b[1;33m=\u001b[0m \u001b[0mpd\u001b[0m\u001b[1;33m.\u001b[0m\u001b[0mDataFrame\u001b[0m\u001b[1;33m(\u001b[0m\u001b[1;33m{\u001b[0m\u001b[1;34m'district'\u001b[0m\u001b[1;33m:\u001b[0m\u001b[0mdf\u001b[0m\u001b[1;33m[\u001b[0m\u001b[1;34m'district'\u001b[0m\u001b[1;33m]\u001b[0m\u001b[1;33m.\u001b[0m\u001b[0munique\u001b[0m\u001b[1;33m(\u001b[0m\u001b[1;33m)\u001b[0m\u001b[1;33m,\u001b[0m\u001b[1;34m'price'\u001b[0m\u001b[1;33m:\u001b[0m\u001b[1;33m[\u001b[0m\u001b[1;36m0\u001b[0m\u001b[1;33m]\u001b[0m\u001b[1;33m*\u001b[0m\u001b[1;36m14\u001b[0m\u001b[1;33m,\u001b[0m\u001b[1;34m'area'\u001b[0m\u001b[1;33m:\u001b[0m\u001b[1;33m[\u001b[0m\u001b[1;36m0\u001b[0m\u001b[1;33m]\u001b[0m\u001b[1;33m*\u001b[0m\u001b[1;36m14\u001b[0m\u001b[1;33m}\u001b[0m\u001b[1;33m)\u001b[0m\u001b[1;33m\u001b[0m\u001b[1;33m\u001b[0m\u001b[0m\n\u001b[0m",
      "\u001b[1;32mc:\\users\\administrator\\appdata\\local\\programs\\python\\python37\\lib\\site-packages\\pandas\\core\\frame.py\u001b[0m in \u001b[0;36m__init__\u001b[1;34m(self, data, index, columns, dtype, copy)\u001b[0m\n\u001b[0;32m    433\u001b[0m             )\n\u001b[0;32m    434\u001b[0m         \u001b[1;32melif\u001b[0m \u001b[0misinstance\u001b[0m\u001b[1;33m(\u001b[0m\u001b[0mdata\u001b[0m\u001b[1;33m,\u001b[0m \u001b[0mdict\u001b[0m\u001b[1;33m)\u001b[0m\u001b[1;33m:\u001b[0m\u001b[1;33m\u001b[0m\u001b[1;33m\u001b[0m\u001b[0m\n\u001b[1;32m--> 435\u001b[1;33m             \u001b[0mmgr\u001b[0m \u001b[1;33m=\u001b[0m \u001b[0minit_dict\u001b[0m\u001b[1;33m(\u001b[0m\u001b[0mdata\u001b[0m\u001b[1;33m,\u001b[0m \u001b[0mindex\u001b[0m\u001b[1;33m,\u001b[0m \u001b[0mcolumns\u001b[0m\u001b[1;33m,\u001b[0m \u001b[0mdtype\u001b[0m\u001b[1;33m=\u001b[0m\u001b[0mdtype\u001b[0m\u001b[1;33m)\u001b[0m\u001b[1;33m\u001b[0m\u001b[1;33m\u001b[0m\u001b[0m\n\u001b[0m\u001b[0;32m    436\u001b[0m         \u001b[1;32melif\u001b[0m \u001b[0misinstance\u001b[0m\u001b[1;33m(\u001b[0m\u001b[0mdata\u001b[0m\u001b[1;33m,\u001b[0m \u001b[0mma\u001b[0m\u001b[1;33m.\u001b[0m\u001b[0mMaskedArray\u001b[0m\u001b[1;33m)\u001b[0m\u001b[1;33m:\u001b[0m\u001b[1;33m\u001b[0m\u001b[1;33m\u001b[0m\u001b[0m\n\u001b[0;32m    437\u001b[0m             \u001b[1;32mimport\u001b[0m \u001b[0mnumpy\u001b[0m\u001b[1;33m.\u001b[0m\u001b[0mma\u001b[0m\u001b[1;33m.\u001b[0m\u001b[0mmrecords\u001b[0m \u001b[1;32mas\u001b[0m \u001b[0mmrecords\u001b[0m\u001b[1;33m\u001b[0m\u001b[1;33m\u001b[0m\u001b[0m\n",
      "\u001b[1;32mc:\\users\\administrator\\appdata\\local\\programs\\python\\python37\\lib\\site-packages\\pandas\\core\\internals\\construction.py\u001b[0m in \u001b[0;36minit_dict\u001b[1;34m(data, index, columns, dtype)\u001b[0m\n\u001b[0;32m    252\u001b[0m             \u001b[0marr\u001b[0m \u001b[1;32mif\u001b[0m \u001b[1;32mnot\u001b[0m \u001b[0mis_datetime64tz_dtype\u001b[0m\u001b[1;33m(\u001b[0m\u001b[0marr\u001b[0m\u001b[1;33m)\u001b[0m \u001b[1;32melse\u001b[0m \u001b[0marr\u001b[0m\u001b[1;33m.\u001b[0m\u001b[0mcopy\u001b[0m\u001b[1;33m(\u001b[0m\u001b[1;33m)\u001b[0m \u001b[1;32mfor\u001b[0m \u001b[0marr\u001b[0m \u001b[1;32min\u001b[0m \u001b[0marrays\u001b[0m\u001b[1;33m\u001b[0m\u001b[1;33m\u001b[0m\u001b[0m\n\u001b[0;32m    253\u001b[0m         ]\n\u001b[1;32m--> 254\u001b[1;33m     \u001b[1;32mreturn\u001b[0m \u001b[0marrays_to_mgr\u001b[0m\u001b[1;33m(\u001b[0m\u001b[0marrays\u001b[0m\u001b[1;33m,\u001b[0m \u001b[0mdata_names\u001b[0m\u001b[1;33m,\u001b[0m \u001b[0mindex\u001b[0m\u001b[1;33m,\u001b[0m \u001b[0mcolumns\u001b[0m\u001b[1;33m,\u001b[0m \u001b[0mdtype\u001b[0m\u001b[1;33m=\u001b[0m\u001b[0mdtype\u001b[0m\u001b[1;33m)\u001b[0m\u001b[1;33m\u001b[0m\u001b[1;33m\u001b[0m\u001b[0m\n\u001b[0m\u001b[0;32m    255\u001b[0m \u001b[1;33m\u001b[0m\u001b[0m\n\u001b[0;32m    256\u001b[0m \u001b[1;33m\u001b[0m\u001b[0m\n",
      "\u001b[1;32mc:\\users\\administrator\\appdata\\local\\programs\\python\\python37\\lib\\site-packages\\pandas\\core\\internals\\construction.py\u001b[0m in \u001b[0;36marrays_to_mgr\u001b[1;34m(arrays, arr_names, index, columns, dtype)\u001b[0m\n\u001b[0;32m     62\u001b[0m     \u001b[1;31m# figure out the index, if necessary\u001b[0m\u001b[1;33m\u001b[0m\u001b[1;33m\u001b[0m\u001b[1;33m\u001b[0m\u001b[0m\n\u001b[0;32m     63\u001b[0m     \u001b[1;32mif\u001b[0m \u001b[0mindex\u001b[0m \u001b[1;32mis\u001b[0m \u001b[1;32mNone\u001b[0m\u001b[1;33m:\u001b[0m\u001b[1;33m\u001b[0m\u001b[1;33m\u001b[0m\u001b[0m\n\u001b[1;32m---> 64\u001b[1;33m         \u001b[0mindex\u001b[0m \u001b[1;33m=\u001b[0m \u001b[0mextract_index\u001b[0m\u001b[1;33m(\u001b[0m\u001b[0marrays\u001b[0m\u001b[1;33m)\u001b[0m\u001b[1;33m\u001b[0m\u001b[1;33m\u001b[0m\u001b[0m\n\u001b[0m\u001b[0;32m     65\u001b[0m     \u001b[1;32melse\u001b[0m\u001b[1;33m:\u001b[0m\u001b[1;33m\u001b[0m\u001b[1;33m\u001b[0m\u001b[0m\n\u001b[0;32m     66\u001b[0m         \u001b[0mindex\u001b[0m \u001b[1;33m=\u001b[0m \u001b[0mensure_index\u001b[0m\u001b[1;33m(\u001b[0m\u001b[0mindex\u001b[0m\u001b[1;33m)\u001b[0m\u001b[1;33m\u001b[0m\u001b[1;33m\u001b[0m\u001b[0m\n",
      "\u001b[1;32mc:\\users\\administrator\\appdata\\local\\programs\\python\\python37\\lib\\site-packages\\pandas\\core\\internals\\construction.py\u001b[0m in \u001b[0;36mextract_index\u001b[1;34m(data)\u001b[0m\n\u001b[0;32m    363\u001b[0m             \u001b[0mlengths\u001b[0m \u001b[1;33m=\u001b[0m \u001b[0mlist\u001b[0m\u001b[1;33m(\u001b[0m\u001b[0mset\u001b[0m\u001b[1;33m(\u001b[0m\u001b[0mraw_lengths\u001b[0m\u001b[1;33m)\u001b[0m\u001b[1;33m)\u001b[0m\u001b[1;33m\u001b[0m\u001b[1;33m\u001b[0m\u001b[0m\n\u001b[0;32m    364\u001b[0m             \u001b[1;32mif\u001b[0m \u001b[0mlen\u001b[0m\u001b[1;33m(\u001b[0m\u001b[0mlengths\u001b[0m\u001b[1;33m)\u001b[0m \u001b[1;33m>\u001b[0m \u001b[1;36m1\u001b[0m\u001b[1;33m:\u001b[0m\u001b[1;33m\u001b[0m\u001b[1;33m\u001b[0m\u001b[0m\n\u001b[1;32m--> 365\u001b[1;33m                 \u001b[1;32mraise\u001b[0m \u001b[0mValueError\u001b[0m\u001b[1;33m(\u001b[0m\u001b[1;34m\"arrays must all be same length\"\u001b[0m\u001b[1;33m)\u001b[0m\u001b[1;33m\u001b[0m\u001b[1;33m\u001b[0m\u001b[0m\n\u001b[0m\u001b[0;32m    366\u001b[0m \u001b[1;33m\u001b[0m\u001b[0m\n\u001b[0;32m    367\u001b[0m             \u001b[1;32mif\u001b[0m \u001b[0mhave_dicts\u001b[0m\u001b[1;33m:\u001b[0m\u001b[1;33m\u001b[0m\u001b[1;33m\u001b[0m\u001b[0m\n",
      "\u001b[1;31mValueError\u001b[0m: arrays must all be same length"
     ],
     "output_type": "error"
    }
   ],
   "source": [
    "df_all = pd.DataFrame({'district':df['district'].unique(),'price':[0]*14,'area':[0]*14})\n"
   ]
  },
  {
   "cell_type": "code",
   "execution_count": null,
   "metadata": {},
   "outputs": [],
   "source": []
  }
 ],
 "metadata": {
  "kernelspec": {
   "display_name": "Python 3",
   "language": "python",
   "name": "python3"
  },
  "language_info": {
   "codemirror_mode": {
    "name": "ipython",
    "version": 3
   },
   "file_extension": ".py",
   "mimetype": "text/x-python",
   "name": "python",
   "nbconvert_exporter": "python",
   "pygments_lexer": "ipython3",
   "version": "3.7.5"
  }
 },
 "nbformat": 4,
 "nbformat_minor": 1
}
